{
 "cells": [
  {
   "cell_type": "markdown",
   "metadata": {},
   "source": [
    "# Glenn The ChatBot"
   ]
  },
  {
   "cell_type": "markdown",
   "metadata": {},
   "source": [
    "Preface: Project Glenn is a chatbot that will talk to you about everyday things. He is a simple chatbot, but still a very cool dude because he's from the West Coast (west coast, best coast).\n",
    "\n",
    "I built upon our assignment in Chatbots(A3). So most of the functions used are from the assignment. What I wanted to do to build upon this previous assignment was have a chatbot that can talk to you in multiple languages. I went about this by creating the 'select_language' function, which allows the user to select between English and Swedish. I did this by creating a dictionary that had both languages predetermined responses as well as separating them from each other. "
   ]
  },
  {
   "cell_type": "code",
   "execution_count": 1,
   "metadata": {},
   "outputs": [],
   "source": [
    "import string\n",
    "import random"
   ]
  },
  {
   "cell_type": "code",
   "execution_count": 2,
   "metadata": {},
   "outputs": [],
   "source": [
    "from my_module.functions import is_question, remove_punctuation, prepare_text, selector, \\\n",
    "                                string_concatenator, list_to_string, end_chat, is_in_list, \\\n",
    "                                find_in_list, select_language\n",
    "from my_module.data import language_interface"
   ]
  },
  {
   "cell_type": "code",
   "execution_count": null,
   "metadata": {},
   "outputs": [
    {
     "name": "stdout",
     "output_type": "stream",
     "text": [
      "Please input the language you want to chat(english or swedish): swe\n",
      "INPUT :\thej\n",
      "OUTPUT: Hallå eller, jag heter Glenn. Behöver du hjälp?\n"
     ]
    }
   ],
   "source": [
    "# Chatbot input messages\n",
    "def lets_chat():\n",
    "    \n",
    "    # User selects a preferred language\n",
    "    inp = None\n",
    "    while not inp == 'quit':\n",
    "        \n",
    "        language_input = input('Please input the language you want to chat(english or swedish): ')\n",
    "        \n",
    "        if language_input.lower().startswith('eng'):\n",
    "            language = 'english'\n",
    "            break\n",
    "        elif language_input.lower().startswith('swe'):\n",
    "            language = 'swedish'\n",
    "            break\n",
    "        else:\n",
    "            print('Please enter a valid choice. Type \"quit\" to enter')\n",
    "            continue\n",
    "\n",
    "    while True:\n",
    "\n",
    "        msg = input('INPUT :\\t')\n",
    "        out_msg = None\n",
    "\n",
    "        language_dict =  language_interface[language]\n",
    "\n",
    "        # Check if input is a question\n",
    "        question = is_question(msg)\n",
    "\n",
    "        # Prepare input message\n",
    "        msg = prepare_text(msg)\n",
    "\n",
    "        # Checks for end message\n",
    "        if end_chat(msg):\n",
    "            out_msg = 'Bye!'\n",
    "            chat = False\n",
    "            break\n",
    "\n",
    "        # Series of topics that I have designed Glenn to answer to\n",
    "        if not out_msg:\n",
    "\n",
    "            # Initialize to collect a list of possible outputs\n",
    "            outs = []\n",
    "\n",
    "            # Glenn's responses\n",
    "            outs.append(selector(msg, language_dict['GREETINGS_IN'], language_dict['GREETINGS_OUT']))\n",
    "\n",
    "            outs.append(selector(msg, language_dict['WEATHER_IN'], language_dict['WEATHER_OUT']))\n",
    "\n",
    "            outs.append(selector(msg, language_dict['BRUNCH_IN'], language_dict['BRUNCH_OUT']))\n",
    "\n",
    "            outs.append(selector(msg, language_dict['SING_IN'], language_dict['SING_OUT']))\n",
    "\n",
    "            outs.append(selector(msg, language_dict['COUNTRY_IN'], language_dict['COUNTRY_OUT']))\n",
    "\n",
    "            outs.append(selector(msg, language_dict['NEWS_IN'], language_dict['NEWS_OUT']))\n",
    "\n",
    "            # People Glenn has opinions about\n",
    "            if is_in_list(msg, language_dict['PEOPLE_IN']):\n",
    "                name = find_in_list(msg, language_dict['PEOPLE_IN'])\n",
    "                outs.append(list_to_string([language_dict['PEOPLE_NAMES'][name], name.capitalize(),\n",
    "                                            selector(msg, language_dict['PEOPLE_IN'], language_dict['PEOPLE_OUT'])],\n",
    "                                           ' '))\n",
    "\n",
    "            # Taboo words Glenn won't talk about\n",
    "            if is_in_list(msg, language_dict['NONO_IN']):\n",
    "                outs.append(list_to_string([selector(msg, language_dict['NONO_IN'], language_dict['NONO_OUT']),\n",
    "                                            find_in_list(msg, language_dict['NONO_IN'])], ' '))\n",
    "\n",
    "            options = list(filter(None, outs))\n",
    "            if options:\n",
    "                out_msg = random.choice(options)\n",
    "        # Words Glenn doesn't know yet\n",
    "        if not out_msg:\n",
    "            out_msg = random.choice(language_dict['UNKNOWN'])\n",
    "\n",
    "        print('OUTPUT:', out_msg)\n",
    "\n",
    "\n",
    "lets_chat()"
   ]
  },
  {
   "cell_type": "code",
   "execution_count": null,
   "metadata": {},
   "outputs": [],
   "source": []
  }
 ],
 "metadata": {
  "kernelspec": {
   "display_name": "Python 3",
   "language": "python",
   "name": "python3"
  },
  "language_info": {
   "codemirror_mode": {
    "name": "ipython",
    "version": 3
   },
   "file_extension": ".py",
   "mimetype": "text/x-python",
   "name": "python",
   "nbconvert_exporter": "python",
   "pygments_lexer": "ipython3",
   "version": "3.6.5"
  }
 },
 "nbformat": 4,
 "nbformat_minor": 2
}
